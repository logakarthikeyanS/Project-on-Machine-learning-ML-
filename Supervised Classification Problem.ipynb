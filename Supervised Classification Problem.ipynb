{
 "cells": [
  {
   "cell_type": "code",
   "execution_count": 1,
   "id": "d52debfb-8d6b-4af2-bd5e-21d9d7cd0c20",
   "metadata": {},
   "outputs": [],
   "source": [
    "# import numerical python\n",
    "import numpy as np\n",
    "\n",
    "# import the pandas\n",
    "import pandas as pd\n",
    "\n",
    "# import the seaborn\n",
    "import seaborn as sns\n",
    "\n",
    "# import the matplotlib\n",
    "import matplotlib.pyplot as plt"
   ]
  },
  {
   "cell_type": "code",
   "execution_count": 2,
   "id": "b6aed3b6-0b68-4e69-9b15-22d2f2aeb07a",
   "metadata": {},
   "outputs": [],
   "source": [
    "# load the data\n",
    "df_house_price=pd.read_csv('House_Price1.csv')"
   ]
  },
  {
   "cell_type": "code",
   "execution_count": 3,
   "id": "308ccd33-25f3-4bbf-a81c-512a427f0fa3",
   "metadata": {},
   "outputs": [
    {
     "data": {
      "text/html": [
       "<div>\n",
       "<style scoped>\n",
       "    .dataframe tbody tr th:only-of-type {\n",
       "        vertical-align: middle;\n",
       "    }\n",
       "\n",
       "    .dataframe tbody tr th {\n",
       "        vertical-align: top;\n",
       "    }\n",
       "\n",
       "    .dataframe thead th {\n",
       "        text-align: right;\n",
       "    }\n",
       "</style>\n",
       "<table border=\"1\" class=\"dataframe\">\n",
       "  <thead>\n",
       "    <tr style=\"text-align: right;\">\n",
       "      <th></th>\n",
       "      <th>price</th>\n",
       "      <th>resid_area</th>\n",
       "      <th>air_qual</th>\n",
       "      <th>room_num</th>\n",
       "      <th>age</th>\n",
       "      <th>distance</th>\n",
       "      <th>teachers</th>\n",
       "      <th>poor_prop</th>\n",
       "      <th>airport</th>\n",
       "      <th>n_hos_beds</th>\n",
       "      <th>n_hot_rooms</th>\n",
       "      <th>waterbody</th>\n",
       "      <th>rainfall</th>\n",
       "      <th>bus_ter</th>\n",
       "      <th>Sold</th>\n",
       "    </tr>\n",
       "  </thead>\n",
       "  <tbody>\n",
       "    <tr>\n",
       "      <th>0</th>\n",
       "      <td>24.0</td>\n",
       "      <td>32.31</td>\n",
       "      <td>0.538</td>\n",
       "      <td>6.575</td>\n",
       "      <td>65.2</td>\n",
       "      <td>4.35</td>\n",
       "      <td>24.7</td>\n",
       "      <td>4.98</td>\n",
       "      <td>YES</td>\n",
       "      <td>5.480</td>\n",
       "      <td>11.1920</td>\n",
       "      <td>River</td>\n",
       "      <td>23</td>\n",
       "      <td>YES</td>\n",
       "      <td>0</td>\n",
       "    </tr>\n",
       "    <tr>\n",
       "      <th>1</th>\n",
       "      <td>21.6</td>\n",
       "      <td>37.07</td>\n",
       "      <td>0.469</td>\n",
       "      <td>6.421</td>\n",
       "      <td>78.9</td>\n",
       "      <td>4.99</td>\n",
       "      <td>22.2</td>\n",
       "      <td>9.14</td>\n",
       "      <td>NO</td>\n",
       "      <td>7.332</td>\n",
       "      <td>12.1728</td>\n",
       "      <td>Lake</td>\n",
       "      <td>42</td>\n",
       "      <td>YES</td>\n",
       "      <td>1</td>\n",
       "    </tr>\n",
       "    <tr>\n",
       "      <th>2</th>\n",
       "      <td>34.7</td>\n",
       "      <td>37.07</td>\n",
       "      <td>0.469</td>\n",
       "      <td>7.185</td>\n",
       "      <td>61.1</td>\n",
       "      <td>5.03</td>\n",
       "      <td>22.2</td>\n",
       "      <td>4.03</td>\n",
       "      <td>NO</td>\n",
       "      <td>7.394</td>\n",
       "      <td>101.1200</td>\n",
       "      <td>NaN</td>\n",
       "      <td>38</td>\n",
       "      <td>YES</td>\n",
       "      <td>0</td>\n",
       "    </tr>\n",
       "    <tr>\n",
       "      <th>3</th>\n",
       "      <td>33.4</td>\n",
       "      <td>32.18</td>\n",
       "      <td>0.458</td>\n",
       "      <td>6.998</td>\n",
       "      <td>45.8</td>\n",
       "      <td>6.21</td>\n",
       "      <td>21.3</td>\n",
       "      <td>2.94</td>\n",
       "      <td>YES</td>\n",
       "      <td>9.268</td>\n",
       "      <td>11.2672</td>\n",
       "      <td>Lake</td>\n",
       "      <td>45</td>\n",
       "      <td>YES</td>\n",
       "      <td>0</td>\n",
       "    </tr>\n",
       "    <tr>\n",
       "      <th>4</th>\n",
       "      <td>36.2</td>\n",
       "      <td>32.18</td>\n",
       "      <td>0.458</td>\n",
       "      <td>7.147</td>\n",
       "      <td>54.2</td>\n",
       "      <td>6.16</td>\n",
       "      <td>21.3</td>\n",
       "      <td>5.33</td>\n",
       "      <td>NO</td>\n",
       "      <td>8.824</td>\n",
       "      <td>11.2896</td>\n",
       "      <td>Lake</td>\n",
       "      <td>55</td>\n",
       "      <td>YES</td>\n",
       "      <td>0</td>\n",
       "    </tr>\n",
       "  </tbody>\n",
       "</table>\n",
       "</div>"
      ],
      "text/plain": [
       "   price  resid_area  air_qual  room_num   age  distance  teachers  poor_prop  \\\n",
       "0   24.0       32.31     0.538     6.575  65.2      4.35      24.7       4.98   \n",
       "1   21.6       37.07     0.469     6.421  78.9      4.99      22.2       9.14   \n",
       "2   34.7       37.07     0.469     7.185  61.1      5.03      22.2       4.03   \n",
       "3   33.4       32.18     0.458     6.998  45.8      6.21      21.3       2.94   \n",
       "4   36.2       32.18     0.458     7.147  54.2      6.16      21.3       5.33   \n",
       "\n",
       "  airport  n_hos_beds  n_hot_rooms waterbody  rainfall bus_ter  Sold  \n",
       "0     YES       5.480      11.1920     River        23     YES     0  \n",
       "1      NO       7.332      12.1728      Lake        42     YES     1  \n",
       "2      NO       7.394     101.1200       NaN        38     YES     0  \n",
       "3     YES       9.268      11.2672      Lake        45     YES     0  \n",
       "4      NO       8.824      11.2896      Lake        55     YES     0  "
      ]
     },
     "execution_count": 3,
     "metadata": {},
     "output_type": "execute_result"
    }
   ],
   "source": [
    "# show the firsst five observations of the data\n",
    "df_house_price.head()"
   ]
  },
  {
   "cell_type": "code",
   "execution_count": 4,
   "id": "fa4086c7-9de7-4073-8a58-87484972716e",
   "metadata": {},
   "outputs": [],
   "source": [
    "dictionary={\n",
    "    'price':'Price',\n",
    "    'resid_area':'Residential_Area',\n",
    "    'air_qual':'Air_Quality',\n",
    "    'room_num':'Room_Number',\n",
    "    'age':'Age',\n",
    "    'distance':'Distance',\n",
    "    'teachers':'Teachers',\n",
    "    'poor_prop':'Poor_Property',\n",
    "    'airport':'Airport',\n",
    "    'n_hos_beds':'N_Hospital_Beds',\n",
    "    'n_hot_rooms':'N_Hotel_Rooms',\n",
    "    'waterbody':'Waterbody',\n",
    "    'rainfall':'Rainfall',\n",
    "    'bus_ter':'Bus_Ter',\n",
    "    'Sold':'Sold'\n",
    "    \n",
    "    \n",
    "}"
   ]
  },
  {
   "cell_type": "code",
   "execution_count": 5,
   "id": "7de7db31-211d-49ae-a075-7399b7508444",
   "metadata": {},
   "outputs": [],
   "source": [
    "# perform the rename action\n",
    "df_house_price=df_house_price.rename(columns=dictionary)"
   ]
  },
  {
   "cell_type": "code",
   "execution_count": 6,
   "id": "502acf1e-a06f-498f-afc3-364290d42fcf",
   "metadata": {},
   "outputs": [
    {
     "name": "stderr",
     "output_type": "stream",
     "text": [
      "C:\\Users\\Admin\\AppData\\Local\\Temp\\ipykernel_33220\\4119212159.py:2: FutureWarning: A value is trying to be set on a copy of a DataFrame or Series through chained assignment using an inplace method.\n",
      "The behavior will change in pandas 3.0. This inplace method will never work because the intermediate object on which we are setting values always behaves as a copy.\n",
      "\n",
      "For example, when doing 'df[col].method(value, inplace=True)', try using 'df.method({col: value}, inplace=True)' or df[col] = df[col].method(value) instead, to perform the operation inplace on the original object.\n",
      "\n",
      "\n",
      "  df_house_price.Waterbody.fillna('River',inplace=True)\n"
     ]
    }
   ],
   "source": [
    "# lets treat the null values in waterbody column\n",
    "df_house_price.Waterbody.fillna('River',inplace=True)"
   ]
  },
  {
   "cell_type": "code",
   "execution_count": 7,
   "id": "cd8ebf03-dc79-4f74-a02c-524099781224",
   "metadata": {},
   "outputs": [],
   "source": [
    "# In N_Hospital_beds, we have less than 10% of data is missing\n",
    "df_house_price.dropna(inplace=True)"
   ]
  },
  {
   "cell_type": "code",
   "execution_count": 8,
   "id": "4a58cdbe-e34f-4992-9254-fe42eb9ef6d6",
   "metadata": {},
   "outputs": [],
   "source": [
    "df_target=df_house_price['Sold']"
   ]
  },
  {
   "cell_type": "code",
   "execution_count": 9,
   "id": "7b672f5f-1183-409c-8acd-eb387989894c",
   "metadata": {},
   "outputs": [],
   "source": [
    "df_feature=df_house_price.drop('Sold',axis=1)"
   ]
  },
  {
   "cell_type": "code",
   "execution_count": 10,
   "id": "3a3703f8-97e7-4e04-b199-5fe94f8112f5",
   "metadata": {},
   "outputs": [],
   "source": [
    "# segregate the data based on the datatype\n",
    "df_num=df_house_price.select_dtypes(include='number')\n",
    "df_cat=df_house_price.select_dtypes(include='object')"
   ]
  },
  {
   "cell_type": "code",
   "execution_count": 11,
   "id": "a372f8de-f925-48fb-a8a6-673dbb95a974",
   "metadata": {},
   "outputs": [],
   "source": [
    "# use dummy encoding\n",
    "df_encoded=pd.get_dummies(df_cat)\n",
    "# Reset the index\n",
    "df_encoded=df_encoded.reset_index()"
   ]
  },
  {
   "cell_type": "code",
   "execution_count": 12,
   "id": "4121633c-a53a-4834-9ce5-b510fb067ce7",
   "metadata": {},
   "outputs": [],
   "source": [
    "# import\n",
    "from sklearn.preprocessing import StandardScaler\n",
    "\n",
    "#initiate the standardscalar\n",
    "ss=StandardScaler()"
   ]
  },
  {
   "cell_type": "code",
   "execution_count": 13,
   "id": "ab4f3b5b-30c6-4d16-9f19-8a20d3d6a54c",
   "metadata": {},
   "outputs": [],
   "source": [
    "# scale the value present in Numerical data frame\n",
    "scaled=ss.fit_transform(df_num)"
   ]
  },
  {
   "cell_type": "code",
   "execution_count": 15,
   "id": "6f37d65f-2fa7-4a1d-84c2-acb7b4303ecf",
   "metadata": {},
   "outputs": [],
   "source": [
    "scaled_df=pd.DataFrame(scaled,columns=df_num.columns)"
   ]
  },
  {
   "cell_type": "code",
   "execution_count": 17,
   "id": "281742ae-fb06-4ccb-8c07-e984e02a9089",
   "metadata": {},
   "outputs": [],
   "source": [
    "scaled_df=scaled_df.reset_index()"
   ]
  },
  {
   "cell_type": "code",
   "execution_count": 19,
   "id": "5708c4bd-f49b-4553-84cf-53b319440d3f",
   "metadata": {},
   "outputs": [],
   "source": [
    "df_independent=pd.concat([df_encoded,scaled_df],axis=1)"
   ]
  },
  {
   "cell_type": "code",
   "execution_count": 21,
   "id": "ec41f301-ae81-4c9d-8f2f-eb88229b5570",
   "metadata": {},
   "outputs": [],
   "source": [
    "# import the train test split\n",
    "from sklearn.model_selection import train_test_split"
   ]
  },
  {
   "cell_type": "code",
   "execution_count": 25,
   "id": "120371cf-0e7b-42d0-bef6-24fd639c97d7",
   "metadata": {},
   "outputs": [],
   "source": [
    "# split the data\n",
    "x_train,x_test,y_train,y_test=train_test_split(df_independent,df_target,test_size=0.2)"
   ]
  },
  {
   "cell_type": "markdown",
   "id": "0be25fd9-3cb0-475f-8777-2e2d32cfbf4f",
   "metadata": {},
   "source": [
    "# Decision Tree Classifier"
   ]
  },
  {
   "cell_type": "code",
   "execution_count": 28,
   "id": "ba6dbbbc-f20c-4fae-9059-f3de05ed5fe9",
   "metadata": {},
   "outputs": [
    {
     "name": "stdout",
     "output_type": "stream",
     "text": [
      "              precision    recall  f1-score   support\n",
      "\n",
      "           0       1.00      1.00      1.00        57\n",
      "           1       1.00      1.00      1.00        43\n",
      "\n",
      "    accuracy                           1.00       100\n",
      "   macro avg       1.00      1.00      1.00       100\n",
      "weighted avg       1.00      1.00      1.00       100\n",
      "\n"
     ]
    }
   ],
   "source": [
    "from sklearn.tree import DecisionTreeClassifier\n",
    "from sklearn.metrics import classification_report\n",
    "\n",
    "# Create a Decision tree classifier\n",
    "tree_model = DecisionTreeClassifier()\n",
    "\n",
    "# Fit the model to training the data\n",
    "tree_model.fit(x_train,y_train)\n",
    "\n",
    "# Predict on the testing data\n",
    "predictions = tree_model.predict(x_test)\n",
    "\n",
    "# Calculate the classification report\n",
    "class_report =classification_report(y_test, predictions)\n",
    "print(class_report)"
   ]
  },
  {
   "cell_type": "code",
   "execution_count": null,
   "id": "e6c943fb-0a75-4708-ba0a-06a605dde63a",
   "metadata": {},
   "outputs": [],
   "source": []
  },
  {
   "cell_type": "code",
   "execution_count": null,
   "id": "0476a519-383f-4cf9-8839-8d72acf73926",
   "metadata": {},
   "outputs": [],
   "source": []
  }
 ],
 "metadata": {
  "kernelspec": {
   "display_name": "Python 3 (ipykernel)",
   "language": "python",
   "name": "python3"
  },
  "language_info": {
   "codemirror_mode": {
    "name": "ipython",
    "version": 3
   },
   "file_extension": ".py",
   "mimetype": "text/x-python",
   "name": "python",
   "nbconvert_exporter": "python",
   "pygments_lexer": "ipython3",
   "version": "3.12.4"
  }
 },
 "nbformat": 4,
 "nbformat_minor": 5
}
